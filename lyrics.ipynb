{
 "cells": [
  {
   "cell_type": "code",
   "execution_count": 2,
   "metadata": {},
   "outputs": [],
   "source": [
    "import nltk"
   ]
  },
  {
   "cell_type": "code",
   "execution_count": 3,
   "metadata": {},
   "outputs": [
    {
     "name": "stdout",
     "output_type": "stream",
     "text": [
      "showing info https://raw.githubusercontent.com/nltk/nltk_data/gh-pages/index.xml\n"
     ]
    },
    {
     "data": {
      "text/plain": [
       "True"
      ]
     },
     "execution_count": 3,
     "metadata": {},
     "output_type": "execute_result"
    }
   ],
   "source": [
    "nltk.download()"
   ]
  },
  {
   "cell_type": "code",
   "execution_count": 4,
   "metadata": {},
   "outputs": [],
   "source": [
    "from nltk.corpus import stopwords \n",
    "from nltk.tokenize import word_tokenize "
   ]
  },
  {
   "cell_type": "code",
   "execution_count": 5,
   "metadata": {},
   "outputs": [],
   "source": [
    "example_sent = \"\"\"You're the light, you're the night\n",
    "You're the color of my blood\n",
    "You're the cure, you're the pain\n",
    "You're the only thing I wanna touch\n",
    "Never knew that it could mean so much, so much\n",
    "You're the fear, I don't care\n",
    "'Cause I've never been so high\n",
    "Follow me to the dark\n",
    "Let me take you past our satellites\n",
    "You can see the world you brought to life, to life\n",
    "So love me like you do, lo-lo-love me like you do\n",
    "Love me like you do, lo-lo-love me like you do\n",
    "Touch me like you do, to-to-touch me like you do\n",
    "What are you waiting for?\n",
    "Fading in, fading out\n",
    "On the edge of paradise\n",
    "Every inch of your skin is a holy gray I've got to find\n",
    "Only you can set my heart on fire, on fire\n",
    "Yeah, I'll let you set the pace\n",
    "'Cause I'm not thinking straight\n",
    "My head spinning around I can't see clear no more\n",
    "What are you waiting for?\n",
    "Love me like you do, lo-lo-love me like you do\n",
    "Love me like you do, lo-lo-love me like you do\n",
    "Touch me like you do, to-to-touch me like you do\n",
    "What are you waiting for?\n",
    "Love me like you do, lo-lo-love me like you do (like you do)\n",
    "Love me like you do, lo-lo-love me like you do (yeah)\n",
    "Touch me like you do, to-to-touch me like you do\n",
    "What are you waiting for?\n",
    "I'll let you set the pace\n",
    "'Cause I'm not thinking straight\n",
    "My head spinning around I can't see clear no more\n",
    "What are you waiting for?\n",
    "Love me like you do, lo-lo-love me like you do (like you do)\n",
    "Love me like you do, lo-lo-love me like you do (yeah)\n",
    "Touch me like you do, to-to-touch me like you do\n",
    "What are you waiting for?\n",
    "Love me like you do, lo-lo-love me like you do (like you do)\n",
    "Love me like you do, lo-lo-love me like you do (yeah)\n",
    "Touch me like you do, to-to-touch me like you do\n",
    "What are you waiting for?\"\"\""
   ]
  },
  {
   "cell_type": "code",
   "execution_count": 7,
   "metadata": {},
   "outputs": [
    {
     "name": "stdout",
     "output_type": "stream",
     "text": [
      "['You', \"'re\", 'the', 'light', ',', 'you', \"'re\", 'the', 'night', 'You', \"'re\", 'the', 'color', 'of', 'my', 'blood', 'You', \"'re\", 'the', 'cure', ',', 'you', \"'re\", 'the', 'pain', 'You', \"'re\", 'the', 'only', 'thing', 'I', 'wan', 'na', 'touch', 'Never', 'knew', 'that', 'it', 'could', 'mean', 'so', 'much', ',', 'so', 'much', 'You', \"'re\", 'the', 'fear', ',', 'I', 'do', \"n't\", 'care', \"'Cause\", 'I', \"'ve\", 'never', 'been', 'so', 'high', 'Follow', 'me', 'to', 'the', 'dark', 'Let', 'me', 'take', 'you', 'past', 'our', 'satellites', 'You', 'can', 'see', 'the', 'world', 'you', 'brought', 'to', 'life', ',', 'to', 'life', 'So', 'love', 'me', 'like', 'you', 'do', ',', 'lo-lo-love', 'me', 'like', 'you', 'do', 'Love', 'me', 'like', 'you', 'do', ',', 'lo-lo-love', 'me', 'like', 'you', 'do', 'Touch', 'me', 'like', 'you', 'do', ',', 'to-to-touch', 'me', 'like', 'you', 'do', 'What', 'are', 'you', 'waiting', 'for', '?', 'Fading', 'in', ',', 'fading', 'out', 'On', 'the', 'edge', 'of', 'paradise', 'Every', 'inch', 'of', 'your', 'skin', 'is', 'a', 'holy', 'gray', 'I', \"'ve\", 'got', 'to', 'find', 'Only', 'you', 'can', 'set', 'my', 'heart', 'on', 'fire', ',', 'on', 'fire', 'Yeah', ',', 'I', \"'ll\", 'let', 'you', 'set', 'the', 'pace', \"'Cause\", 'I', \"'m\", 'not', 'thinking', 'straight', 'My', 'head', 'spinning', 'around', 'I', 'ca', \"n't\", 'see', 'clear', 'no', 'more', 'What', 'are', 'you', 'waiting', 'for', '?', 'Love', 'me', 'like', 'you', 'do', ',', 'lo-lo-love', 'me', 'like', 'you', 'do', 'Love', 'me', 'like', 'you', 'do', ',', 'lo-lo-love', 'me', 'like', 'you', 'do', 'Touch', 'me', 'like', 'you', 'do', ',', 'to-to-touch', 'me', 'like', 'you', 'do', 'What', 'are', 'you', 'waiting', 'for', '?', 'Love', 'me', 'like', 'you', 'do', ',', 'lo-lo-love', 'me', 'like', 'you', 'do', '(', 'like', 'you', 'do', ')', 'Love', 'me', 'like', 'you', 'do', ',', 'lo-lo-love', 'me', 'like', 'you', 'do', '(', 'yeah', ')', 'Touch', 'me', 'like', 'you', 'do', ',', 'to-to-touch', 'me', 'like', 'you', 'do', 'What', 'are', 'you', 'waiting', 'for', '?', 'I', \"'ll\", 'let', 'you', 'set', 'the', 'pace', \"'Cause\", 'I', \"'m\", 'not', 'thinking', 'straight', 'My', 'head', 'spinning', 'around', 'I', 'ca', \"n't\", 'see', 'clear', 'no', 'more', 'What', 'are', 'you', 'waiting', 'for', '?', 'Love', 'me', 'like', 'you', 'do', ',', 'lo-lo-love', 'me', 'like', 'you', 'do', '(', 'like', 'you', 'do', ')', 'Love', 'me', 'like', 'you', 'do', ',', 'lo-lo-love', 'me', 'like', 'you', 'do', '(', 'yeah', ')', 'Touch', 'me', 'like', 'you', 'do', ',', 'to-to-touch', 'me', 'like', 'you', 'do', 'What', 'are', 'you', 'waiting', 'for', '?', 'Love', 'me', 'like', 'you', 'do', ',', 'lo-lo-love', 'me', 'like', 'you', 'do', '(', 'like', 'you', 'do', ')', 'Love', 'me', 'like', 'you', 'do', ',', 'lo-lo-love', 'me', 'like', 'you', 'do', '(', 'yeah', ')', 'Touch', 'me', 'like', 'you', 'do', ',', 'to-to-touch', 'me', 'like', 'you', 'do', 'What', 'are', 'you', 'waiting', 'for', '?']\n"
     ]
    }
   ],
   "source": [
    "stop_words = set(stopwords.words('english')) \n",
    "  \n",
    "word_tokens = word_tokenize(example_sent) \n",
    "  \n",
    "filtered_sentence = [w for w in word_tokens if not w in stop_words] \n",
    "  \n",
    "filtered_sentence = [] \n",
    "  \n",
    "for w in word_tokens: \n",
    "    if w not in stop_words: \n",
    "        filtered_sentence.append(w) \n",
    "  \n",
    "print(word_tokens) \n"
   ]
  },
  {
   "cell_type": "code",
   "execution_count": 8,
   "metadata": {},
   "outputs": [
    {
     "name": "stdout",
     "output_type": "stream",
     "text": [
      "['You', \"'re\", 'light', ',', \"'re\", 'night', 'You', \"'re\", 'color', 'blood', 'You', \"'re\", 'cure', ',', \"'re\", 'pain', 'You', \"'re\", 'thing', 'I', 'wan', 'na', 'touch', 'Never', 'knew', 'could', 'mean', 'much', ',', 'much', 'You', \"'re\", 'fear', ',', 'I', \"n't\", 'care', \"'Cause\", 'I', \"'ve\", 'never', 'high', 'Follow', 'dark', 'Let', 'take', 'past', 'satellites', 'You', 'see', 'world', 'brought', 'life', ',', 'life', 'So', 'love', 'like', ',', 'lo-lo-love', 'like', 'Love', 'like', ',', 'lo-lo-love', 'like', 'Touch', 'like', ',', 'to-to-touch', 'like', 'What', 'waiting', '?', 'Fading', ',', 'fading', 'On', 'edge', 'paradise', 'Every', 'inch', 'skin', 'holy', 'gray', 'I', \"'ve\", 'got', 'find', 'Only', 'set', 'heart', 'fire', ',', 'fire', 'Yeah', ',', 'I', \"'ll\", 'let', 'set', 'pace', \"'Cause\", 'I', \"'m\", 'thinking', 'straight', 'My', 'head', 'spinning', 'around', 'I', 'ca', \"n't\", 'see', 'clear', 'What', 'waiting', '?', 'Love', 'like', ',', 'lo-lo-love', 'like', 'Love', 'like', ',', 'lo-lo-love', 'like', 'Touch', 'like', ',', 'to-to-touch', 'like', 'What', 'waiting', '?', 'Love', 'like', ',', 'lo-lo-love', 'like', '(', 'like', ')', 'Love', 'like', ',', 'lo-lo-love', 'like', '(', 'yeah', ')', 'Touch', 'like', ',', 'to-to-touch', 'like', 'What', 'waiting', '?', 'I', \"'ll\", 'let', 'set', 'pace', \"'Cause\", 'I', \"'m\", 'thinking', 'straight', 'My', 'head', 'spinning', 'around', 'I', 'ca', \"n't\", 'see', 'clear', 'What', 'waiting', '?', 'Love', 'like', ',', 'lo-lo-love', 'like', '(', 'like', ')', 'Love', 'like', ',', 'lo-lo-love', 'like', '(', 'yeah', ')', 'Touch', 'like', ',', 'to-to-touch', 'like', 'What', 'waiting', '?', 'Love', 'like', ',', 'lo-lo-love', 'like', '(', 'like', ')', 'Love', 'like', ',', 'lo-lo-love', 'like', '(', 'yeah', ')', 'Touch', 'like', ',', 'to-to-touch', 'like', 'What', 'waiting', '?']\n"
     ]
    }
   ],
   "source": [
    "print(filtered_sentence) "
   ]
  },
  {
   "cell_type": "code",
   "execution_count": null,
   "metadata": {},
   "outputs": [],
   "source": []
  }
 ],
 "metadata": {
  "kernelspec": {
   "display_name": "Python 3",
   "language": "python",
   "name": "python3"
  },
  "language_info": {
   "codemirror_mode": {
    "name": "ipython",
    "version": 3
   },
   "file_extension": ".py",
   "mimetype": "text/x-python",
   "name": "python",
   "nbconvert_exporter": "python",
   "pygments_lexer": "ipython3",
   "version": "3.7.0"
  }
 },
 "nbformat": 4,
 "nbformat_minor": 2
}
